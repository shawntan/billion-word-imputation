{
 "metadata": {
  "name": "",
  "signature": "sha256:f72980a3ea26e37b62a8248041a3cc5bfb3e2a0a0f64c0c2e2ba1e69ff958908"
 },
 "nbformat": 3,
 "nbformat_minor": 0,
 "worksheets": [
  {
   "cells": [
    {
     "cell_type": "markdown",
     "metadata": {},
     "source": [
      "#Hi asshole\n",
      "This is inline $\\sigma(x^{\\top}W)$ test\n",
      "$$\\sigma(x^{\\top}W)$$"
     ]
    }
   ],
   "metadata": {}
  }
 ]
}